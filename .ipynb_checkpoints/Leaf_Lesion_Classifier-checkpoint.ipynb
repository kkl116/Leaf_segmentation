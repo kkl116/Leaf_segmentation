{
 "cells": [
  {
   "cell_type": "code",
   "execution_count": 1,
   "metadata": {},
   "outputs": [],
   "source": [
    "#####################################\n",
    "#Leaf classifier + Lesion classifier#\n",
    "#####################################\n",
    "\n",
    "#########\n",
    "#outputs#\n",
    "#########\n",
    "\n",
    "# - res.xlsx reports the measures for each individual leaf\n",
    "\n",
    "# - *img_name*-NGRDI/TGI/lesion_sizes.txt reports each grouping's mean for each measure and \n",
    "#    one way ANOVA results\n",
    "\n",
    "# - *img_name*_ids.jpg             shows each leaf's ID\n",
    "\n",
    "# - *img_name*_kmeans_grouping.jpg shows kmeans grouping\n",
    "\n",
    "# - *img_name*_mask.png shows the leaf classifier's prediction, and in each Class_X\n",
    "#   there is a Masks folder containing the lesion classifier's predictions"
   ]
  },
  {
   "cell_type": "code",
   "execution_count": 2,
   "metadata": {},
   "outputs": [],
   "source": [
    "%reload_ext autoreload\n",
    "%autoreload 2\n",
    "%matplotlib inline"
   ]
  },
  {
   "cell_type": "code",
   "execution_count": null,
   "metadata": {
    "scrolled": false
   },
   "outputs": [],
   "source": [
    "#############################################################################################\n",
    "#run this cell by removing quotes to install dependencies which are not included in Anaconda#\n",
    "#############################################################################################\n",
    "'''\n",
    "import sys\n",
    "!pip install --prefix {sys.prefix} fastai==1.0.59\n",
    "!pip install --prefix {sys.prefix} torch==1.4.0\n",
    "!pip install --prefix {sys.prefix} autoimpute\n",
    "!pip install --prefix {sys.prefix} opencv-python\n",
    "'''"
   ]
  },
  {
   "cell_type": "code",
   "execution_count": 12,
   "metadata": {},
   "outputs": [],
   "source": [
    "########\n",
    "#import#\n",
    "########\n",
    "from inference_funcs import Run_Lesion_Inference, Run_Leaf_Inference, compile_time_series_results\n",
    "import os\n",
    "import glob\n",
    "from fastai import *\n",
    "import torch\n",
    "import cv2\n",
    "from UNet_init_funcs import *\n",
    "import warnings\n",
    "home_dir = os.getcwd()\n",
    "\n",
    "#for silencing imageio warnings when saving lesion mask images.\n",
    "import imageio.core.util\n",
    "def silence_imageio_warning(*args, **kwargs):\n",
    "    pass\n",
    "imageio.core.util._precision_warn = silence_imageio_warning"
   ]
  },
  {
   "cell_type": "code",
   "execution_count": 8,
   "metadata": {},
   "outputs": [],
   "source": [
    "################\n",
    "#set parameters#\n",
    "################\n",
    "defaults.device = torch.device('cpu') #cpu or gpu utilization\n",
    "img_dir = home_dir + '/Images' #folder where images are located\n",
    "\n",
    "leaf_fnames = glob.glob(img_dir+'/*.png')   #choose files for inference - expects list of file names\n",
    "                                            #make sure images are in order for time series analysis\n",
    "\n",
    "clust_by = 'x'                        #k means clustering by row ('y') or column ('x')\n",
    "\n",
    "n_classes = [6] * len(leaf_fnames) #number of leaf groups - expects list of numbers same length as leaf_fnames\n",
    "                                      #for time series data can set it as e.g. [5] * len(leaf_fnames)\n",
    "\n",
    "time_series_analysis = 'n'            #'y' or 'n'\n",
    "    \n",
    "overlap_ids = [] * len(leaf_fnames)   #to flag up potential overlaps, which allows for downstream correction\n",
    "                                      #if none provided, then thresholding is used\n",
    "\n",
    "out_dir = 'out'        #folder to save results in \n",
    "bright_norm = None\n",
    "\n",
    "############################## \n",
    "#time series analysis settings#\n",
    "##############################\n",
    "use_t0_as_reference = 'n'             #'y' or 'n'\n",
    "                                      #if 'y', will propagate time point 0's image mask throughout the time series\n",
    "\n",
    "ignore_fnames = []      #will ignore indicated images, and interpolate the missing time point\n",
    "missing_tps = []        #will interpolate the missing time points indicated\n",
    "impute_method = 'interpolate' #method of interpolation, use None if imputation not needed\n",
    "                              #other imputation methods can be found in autoimpute's docs\n",
    "ts_dir = 'time_series_res' #folder for time series results\n",
    "\n",
    "start_time = 0 \n",
    "end_time = 73\n",
    "interval = 1\n",
    "\n",
    "if time_series_analysis == 'y' and len(ignore_fnames) != 0:\n",
    "    for fn in ignore_fnames:\n",
    "        ind = leaf_fnames.index(fn)\n",
    "        missing_tps.append(ind)\n",
    "    for fn in ignore_fnames:\n",
    "        leaf_fnames.remove(fn)\n",
    "        \n",
    "t0_fpath = out_dir+'/'+os.path.split(leaf_fnames[0])[1][:-4] + '_res'\n",
    "t = 0"
   ]
  },
  {
   "cell_type": "code",
   "execution_count": null,
   "metadata": {},
   "outputs": [],
   "source": [
    "###################\n",
    "#Leaf segmentation#\n",
    "###################\n",
    "for (fpath,n) in zip(leaf_fnames,n_classes):\n",
    "    Run_Leaf_Inference(fpath, clust_by,n, time_series_analysis, use_t0_as_reference, overlap_ids, out_dir, bright_norm,t, t0_fpath)\n",
    "    t += 1"
   ]
  },
  {
   "cell_type": "code",
   "execution_count": 17,
   "metadata": {},
   "outputs": [],
   "source": [
    "#At this stage can correct for any masks, and running the above cell again \n",
    "#will trigger the corrected_mask_processing function."
   ]
  },
  {
   "cell_type": "code",
   "execution_count": 15,
   "metadata": {},
   "outputs": [],
   "source": [
    "#######################################################################\n",
    "#run this cell to create the directory paths for the lesion classifier#\n",
    "#######################################################################\n",
    "#no need to change anything if directly running after leaf inference\n",
    "\n",
    "leaf_res_paths = []\n",
    "for fn in leaf_fnames:\n",
    "    fname = os.path.split(fn)[1]\n",
    "    leaf_dir = fname[:-4] + '_res'\n",
    "    leaf_res_paths.append(os.path.join(out_dir, leaf_dir))\n",
    "\n",
    "#creates the time series results dataframe to store results from lesion prediction\n",
    "ts_res = []\n",
    "if time_series_analysis == 'y':\n",
    "    #for each group make a df \n",
    "    for g in range(n_classes[0]):\n",
    "        ts_df = pd.DataFrame(index = ['lesion_size(ratio)','GLI','NGRDI','lesion_size(pn)'], columns = range(start_time, end_time,interval))\n",
    "        ts_res.append(ts_df)\n",
    "\n",
    "leaf_res_paths = ['out/OW_valid_res']\n",
    "n_classes = [1]"
   ]
  },
  {
   "cell_type": "code",
   "execution_count": 16,
   "metadata": {
    "scrolled": true
   },
   "outputs": [
    {
     "name": "stdout",
     "output_type": "stream",
     "text": [
      "0\n"
     ]
    }
   ],
   "source": [
    "#####################\n",
    "#Lesion segmentation#\n",
    "#####################\n",
    "t=0\n",
    "for (fn,n) in zip(leaf_res_paths,n_classes):\n",
    "    ts_res = Run_Lesion_Inference(fn,n,time_series_analysis,bright_norm,ts_res,t)\n",
    "    print(t)\n",
    "    t += 1\n",
    "\n",
    "if time_series_analysis == 'y':\n",
    "    compile_time_series_results(time_series_analysis, ts_res, out_dir, ts_dir, missing_tps, impute_method, lesion_learner_path = 'Lesion_UNet/final_64')"
   ]
  },
  {
   "cell_type": "code",
   "execution_count": null,
   "metadata": {},
   "outputs": [],
   "source": []
  }
 ],
 "metadata": {
  "kernelspec": {
   "display_name": "Python 3",
   "language": "python",
   "name": "python3"
  },
  "language_info": {
   "codemirror_mode": {
    "name": "ipython",
    "version": 3
   },
   "file_extension": ".py",
   "mimetype": "text/x-python",
   "name": "python",
   "nbconvert_exporter": "python",
   "pygments_lexer": "ipython3",
   "version": "3.7.3"
  }
 },
 "nbformat": 4,
 "nbformat_minor": 2
}
